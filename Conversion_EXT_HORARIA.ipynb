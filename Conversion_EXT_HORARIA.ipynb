{
  "nbformat": 4,
  "nbformat_minor": 0,
  "metadata": {
    "colab": {
      "provenance": [],
      "authorship_tag": "ABX9TyMVWCXlvBjDoqM19DUc3Cwp",
      "include_colab_link": true
    },
    "kernelspec": {
      "name": "python3",
      "display_name": "Python 3"
    },
    "language_info": {
      "name": "python"
    }
  },
  "cells": [
    {
      "cell_type": "markdown",
      "metadata": {
        "id": "view-in-github",
        "colab_type": "text"
      },
      "source": [
        "<a href=\"https://colab.research.google.com/github/adcaceres69/pruebasPython/blob/main/Conversion_EXT_HORARIA.ipynb\" target=\"_parent\"><img src=\"https://colab.research.google.com/assets/colab-badge.svg\" alt=\"Open In Colab\"/></a>"
      ]
    },
    {
      "cell_type": "code",
      "execution_count": 1,
      "metadata": {
        "id": "ymq_iBYXreLc"
      },
      "outputs": [],
      "source": [
        "#Importamos las librerias\n",
        "import pandas as pd\n",
        "import numpy as np\n",
        "import matplotlib.pyplot as plt\n",
        "import seaborn as sns"
      ]
    },
    {
      "cell_type": "code",
      "source": [
        "#Archivo que contiene los datos\n",
        "df = pd.read_excel('/DATOS_EXTHOR_0923.xlsx')"
      ],
      "metadata": {
        "id": "b6eD7BBxsFsh"
      },
      "execution_count": 2,
      "outputs": []
    },
    {
      "cell_type": "code",
      "source": [
        "df.sample(5)"
      ],
      "metadata": {
        "colab": {
          "base_uri": "https://localhost:8080/",
          "height": 360
        },
        "id": "yCXo-34ssPRk",
        "outputId": "7ed3a2f4-0822-4219-e842-a2a769f988ac"
      },
      "execution_count": 3,
      "outputs": [
        {
          "output_type": "execute_result",
          "data": {
            "text/plain": [
              "      MES_DE_LIQUIDACION  DOCUMENTO          APELLIDO_Y_NOMBRE RAMA  \\\n",
              "33                     9   40213521  ALARCON ERICA LUJAN          P   \n",
              "3010                   9   24417815  DELVALLE ERMELINDA ELIZAB    P   \n",
              "2554                   9   31421632  SANTA CRUZ BLANCA PORFIRI    P   \n",
              "2862                   9   29963191  GUTIERREZ LETICIA ZULMA      P   \n",
              "657                    9   25306207  CARDOZO GRACIELA NOEMI       P   \n",
              "\n",
              "     CODIGO_CARGO  DEPENDENCIA_ESTA  CARGA_HORARIA TIPO_CARGO  REVISTA  \\\n",
              "33     731CP9                     1           2500          C        2   \n",
              "3010   731CP9                     1           2500          C        2   \n",
              "2554   531CP9                     1           2500          C        1   \n",
              "2862   731CP9                     1           2500          C        2   \n",
              "657    731CP9                     1           2500          C        2   \n",
              "\n",
              "      SUBVENCION  ...  NIVEL_ENSEÑANZA  ZONA  SUELDO_LIQUIDO  \\\n",
              "33             0  ...                P    40        18912734   \n",
              "3010           0  ...                P    20        21510860   \n",
              "2554           0  ...                P    20        21241214   \n",
              "2862           0  ...                P    20        18965167   \n",
              "657            0  ...                P   150        30733291   \n",
              "\n",
              "      PORCENTAJE_ANTIGUEDAD  IMPORTE_EXT_HORARIA  HORA_JOR_EXTED  BASICO_101  \\\n",
              "33                      150              2675652              45    89492.56   \n",
              "3010                    111              3856079              45    89492.56   \n",
              "2554                    700              3226518              45    89492.56   \n",
              "2862                    400              2754347              45    89492.56   \n",
              "657                     700              5272593              45    89492.56   \n",
              "\n",
              "     ANTIGUEDAD_103 PRESENTISMO_112   ZONA_116  \n",
              "33         13423.88        13423.88   35797.02  \n",
              "3010       98441.82        13423.88   17898.51  \n",
              "2554       62644.79        13423.88   17898.51  \n",
              "2862       35797.02        13423.88   17898.51  \n",
              "657        62644.79        13423.88  134238.84  \n",
              "\n",
              "[5 rows x 30 columns]"
            ],
            "text/html": [
              "\n",
              "  <div id=\"df-7d8c77d1-df34-4fc4-be9f-720a7b3a0b07\" class=\"colab-df-container\">\n",
              "    <div>\n",
              "<style scoped>\n",
              "    .dataframe tbody tr th:only-of-type {\n",
              "        vertical-align: middle;\n",
              "    }\n",
              "\n",
              "    .dataframe tbody tr th {\n",
              "        vertical-align: top;\n",
              "    }\n",
              "\n",
              "    .dataframe thead th {\n",
              "        text-align: right;\n",
              "    }\n",
              "</style>\n",
              "<table border=\"1\" class=\"dataframe\">\n",
              "  <thead>\n",
              "    <tr style=\"text-align: right;\">\n",
              "      <th></th>\n",
              "      <th>MES_DE_LIQUIDACION</th>\n",
              "      <th>DOCUMENTO</th>\n",
              "      <th>APELLIDO_Y_NOMBRE</th>\n",
              "      <th>RAMA</th>\n",
              "      <th>CODIGO_CARGO</th>\n",
              "      <th>DEPENDENCIA_ESTA</th>\n",
              "      <th>CARGA_HORARIA</th>\n",
              "      <th>TIPO_CARGO</th>\n",
              "      <th>REVISTA</th>\n",
              "      <th>SUBVENCION</th>\n",
              "      <th>...</th>\n",
              "      <th>NIVEL_ENSEÑANZA</th>\n",
              "      <th>ZONA</th>\n",
              "      <th>SUELDO_LIQUIDO</th>\n",
              "      <th>PORCENTAJE_ANTIGUEDAD</th>\n",
              "      <th>IMPORTE_EXT_HORARIA</th>\n",
              "      <th>HORA_JOR_EXTED</th>\n",
              "      <th>BASICO_101</th>\n",
              "      <th>ANTIGUEDAD_103</th>\n",
              "      <th>PRESENTISMO_112</th>\n",
              "      <th>ZONA_116</th>\n",
              "    </tr>\n",
              "  </thead>\n",
              "  <tbody>\n",
              "    <tr>\n",
              "      <th>33</th>\n",
              "      <td>9</td>\n",
              "      <td>40213521</td>\n",
              "      <td>ALARCON ERICA LUJAN</td>\n",
              "      <td>P</td>\n",
              "      <td>731CP9</td>\n",
              "      <td>1</td>\n",
              "      <td>2500</td>\n",
              "      <td>C</td>\n",
              "      <td>2</td>\n",
              "      <td>0</td>\n",
              "      <td>...</td>\n",
              "      <td>P</td>\n",
              "      <td>40</td>\n",
              "      <td>18912734</td>\n",
              "      <td>150</td>\n",
              "      <td>2675652</td>\n",
              "      <td>45</td>\n",
              "      <td>89492.56</td>\n",
              "      <td>13423.88</td>\n",
              "      <td>13423.88</td>\n",
              "      <td>35797.02</td>\n",
              "    </tr>\n",
              "    <tr>\n",
              "      <th>3010</th>\n",
              "      <td>9</td>\n",
              "      <td>24417815</td>\n",
              "      <td>DELVALLE ERMELINDA ELIZAB</td>\n",
              "      <td>P</td>\n",
              "      <td>731CP9</td>\n",
              "      <td>1</td>\n",
              "      <td>2500</td>\n",
              "      <td>C</td>\n",
              "      <td>2</td>\n",
              "      <td>0</td>\n",
              "      <td>...</td>\n",
              "      <td>P</td>\n",
              "      <td>20</td>\n",
              "      <td>21510860</td>\n",
              "      <td>111</td>\n",
              "      <td>3856079</td>\n",
              "      <td>45</td>\n",
              "      <td>89492.56</td>\n",
              "      <td>98441.82</td>\n",
              "      <td>13423.88</td>\n",
              "      <td>17898.51</td>\n",
              "    </tr>\n",
              "    <tr>\n",
              "      <th>2554</th>\n",
              "      <td>9</td>\n",
              "      <td>31421632</td>\n",
              "      <td>SANTA CRUZ BLANCA PORFIRI</td>\n",
              "      <td>P</td>\n",
              "      <td>531CP9</td>\n",
              "      <td>1</td>\n",
              "      <td>2500</td>\n",
              "      <td>C</td>\n",
              "      <td>1</td>\n",
              "      <td>0</td>\n",
              "      <td>...</td>\n",
              "      <td>P</td>\n",
              "      <td>20</td>\n",
              "      <td>21241214</td>\n",
              "      <td>700</td>\n",
              "      <td>3226518</td>\n",
              "      <td>45</td>\n",
              "      <td>89492.56</td>\n",
              "      <td>62644.79</td>\n",
              "      <td>13423.88</td>\n",
              "      <td>17898.51</td>\n",
              "    </tr>\n",
              "    <tr>\n",
              "      <th>2862</th>\n",
              "      <td>9</td>\n",
              "      <td>29963191</td>\n",
              "      <td>GUTIERREZ LETICIA ZULMA</td>\n",
              "      <td>P</td>\n",
              "      <td>731CP9</td>\n",
              "      <td>1</td>\n",
              "      <td>2500</td>\n",
              "      <td>C</td>\n",
              "      <td>2</td>\n",
              "      <td>0</td>\n",
              "      <td>...</td>\n",
              "      <td>P</td>\n",
              "      <td>20</td>\n",
              "      <td>18965167</td>\n",
              "      <td>400</td>\n",
              "      <td>2754347</td>\n",
              "      <td>45</td>\n",
              "      <td>89492.56</td>\n",
              "      <td>35797.02</td>\n",
              "      <td>13423.88</td>\n",
              "      <td>17898.51</td>\n",
              "    </tr>\n",
              "    <tr>\n",
              "      <th>657</th>\n",
              "      <td>9</td>\n",
              "      <td>25306207</td>\n",
              "      <td>CARDOZO GRACIELA NOEMI</td>\n",
              "      <td>P</td>\n",
              "      <td>731CP9</td>\n",
              "      <td>1</td>\n",
              "      <td>2500</td>\n",
              "      <td>C</td>\n",
              "      <td>2</td>\n",
              "      <td>0</td>\n",
              "      <td>...</td>\n",
              "      <td>P</td>\n",
              "      <td>150</td>\n",
              "      <td>30733291</td>\n",
              "      <td>700</td>\n",
              "      <td>5272593</td>\n",
              "      <td>45</td>\n",
              "      <td>89492.56</td>\n",
              "      <td>62644.79</td>\n",
              "      <td>13423.88</td>\n",
              "      <td>134238.84</td>\n",
              "    </tr>\n",
              "  </tbody>\n",
              "</table>\n",
              "<p>5 rows × 30 columns</p>\n",
              "</div>\n",
              "    <div class=\"colab-df-buttons\">\n",
              "\n",
              "  <div class=\"colab-df-container\">\n",
              "    <button class=\"colab-df-convert\" onclick=\"convertToInteractive('df-7d8c77d1-df34-4fc4-be9f-720a7b3a0b07')\"\n",
              "            title=\"Convert this dataframe to an interactive table.\"\n",
              "            style=\"display:none;\">\n",
              "\n",
              "  <svg xmlns=\"http://www.w3.org/2000/svg\" height=\"24px\" viewBox=\"0 -960 960 960\">\n",
              "    <path d=\"M120-120v-720h720v720H120Zm60-500h600v-160H180v160Zm220 220h160v-160H400v160Zm0 220h160v-160H400v160ZM180-400h160v-160H180v160Zm440 0h160v-160H620v160ZM180-180h160v-160H180v160Zm440 0h160v-160H620v160Z\"/>\n",
              "  </svg>\n",
              "    </button>\n",
              "\n",
              "  <style>\n",
              "    .colab-df-container {\n",
              "      display:flex;\n",
              "      gap: 12px;\n",
              "    }\n",
              "\n",
              "    .colab-df-convert {\n",
              "      background-color: #E8F0FE;\n",
              "      border: none;\n",
              "      border-radius: 50%;\n",
              "      cursor: pointer;\n",
              "      display: none;\n",
              "      fill: #1967D2;\n",
              "      height: 32px;\n",
              "      padding: 0 0 0 0;\n",
              "      width: 32px;\n",
              "    }\n",
              "\n",
              "    .colab-df-convert:hover {\n",
              "      background-color: #E2EBFA;\n",
              "      box-shadow: 0px 1px 2px rgba(60, 64, 67, 0.3), 0px 1px 3px 1px rgba(60, 64, 67, 0.15);\n",
              "      fill: #174EA6;\n",
              "    }\n",
              "\n",
              "    .colab-df-buttons div {\n",
              "      margin-bottom: 4px;\n",
              "    }\n",
              "\n",
              "    [theme=dark] .colab-df-convert {\n",
              "      background-color: #3B4455;\n",
              "      fill: #D2E3FC;\n",
              "    }\n",
              "\n",
              "    [theme=dark] .colab-df-convert:hover {\n",
              "      background-color: #434B5C;\n",
              "      box-shadow: 0px 1px 3px 1px rgba(0, 0, 0, 0.15);\n",
              "      filter: drop-shadow(0px 1px 2px rgba(0, 0, 0, 0.3));\n",
              "      fill: #FFFFFF;\n",
              "    }\n",
              "  </style>\n",
              "\n",
              "    <script>\n",
              "      const buttonEl =\n",
              "        document.querySelector('#df-7d8c77d1-df34-4fc4-be9f-720a7b3a0b07 button.colab-df-convert');\n",
              "      buttonEl.style.display =\n",
              "        google.colab.kernel.accessAllowed ? 'block' : 'none';\n",
              "\n",
              "      async function convertToInteractive(key) {\n",
              "        const element = document.querySelector('#df-7d8c77d1-df34-4fc4-be9f-720a7b3a0b07');\n",
              "        const dataTable =\n",
              "          await google.colab.kernel.invokeFunction('convertToInteractive',\n",
              "                                                    [key], {});\n",
              "        if (!dataTable) return;\n",
              "\n",
              "        const docLinkHtml = 'Like what you see? Visit the ' +\n",
              "          '<a target=\"_blank\" href=https://colab.research.google.com/notebooks/data_table.ipynb>data table notebook</a>'\n",
              "          + ' to learn more about interactive tables.';\n",
              "        element.innerHTML = '';\n",
              "        dataTable['output_type'] = 'display_data';\n",
              "        await google.colab.output.renderOutput(dataTable, element);\n",
              "        const docLink = document.createElement('div');\n",
              "        docLink.innerHTML = docLinkHtml;\n",
              "        element.appendChild(docLink);\n",
              "      }\n",
              "    </script>\n",
              "  </div>\n",
              "\n",
              "\n",
              "<div id=\"df-a46206dd-a263-411b-b66a-c852a8e5b28e\">\n",
              "  <button class=\"colab-df-quickchart\" onclick=\"quickchart('df-a46206dd-a263-411b-b66a-c852a8e5b28e')\"\n",
              "            title=\"Suggest charts.\"\n",
              "            style=\"display:none;\">\n",
              "\n",
              "<svg xmlns=\"http://www.w3.org/2000/svg\" height=\"24px\"viewBox=\"0 0 24 24\"\n",
              "     width=\"24px\">\n",
              "    <g>\n",
              "        <path d=\"M19 3H5c-1.1 0-2 .9-2 2v14c0 1.1.9 2 2 2h14c1.1 0 2-.9 2-2V5c0-1.1-.9-2-2-2zM9 17H7v-7h2v7zm4 0h-2V7h2v10zm4 0h-2v-4h2v4z\"/>\n",
              "    </g>\n",
              "</svg>\n",
              "  </button>\n",
              "\n",
              "<style>\n",
              "  .colab-df-quickchart {\n",
              "      --bg-color: #E8F0FE;\n",
              "      --fill-color: #1967D2;\n",
              "      --hover-bg-color: #E2EBFA;\n",
              "      --hover-fill-color: #174EA6;\n",
              "      --disabled-fill-color: #AAA;\n",
              "      --disabled-bg-color: #DDD;\n",
              "  }\n",
              "\n",
              "  [theme=dark] .colab-df-quickchart {\n",
              "      --bg-color: #3B4455;\n",
              "      --fill-color: #D2E3FC;\n",
              "      --hover-bg-color: #434B5C;\n",
              "      --hover-fill-color: #FFFFFF;\n",
              "      --disabled-bg-color: #3B4455;\n",
              "      --disabled-fill-color: #666;\n",
              "  }\n",
              "\n",
              "  .colab-df-quickchart {\n",
              "    background-color: var(--bg-color);\n",
              "    border: none;\n",
              "    border-radius: 50%;\n",
              "    cursor: pointer;\n",
              "    display: none;\n",
              "    fill: var(--fill-color);\n",
              "    height: 32px;\n",
              "    padding: 0;\n",
              "    width: 32px;\n",
              "  }\n",
              "\n",
              "  .colab-df-quickchart:hover {\n",
              "    background-color: var(--hover-bg-color);\n",
              "    box-shadow: 0 1px 2px rgba(60, 64, 67, 0.3), 0 1px 3px 1px rgba(60, 64, 67, 0.15);\n",
              "    fill: var(--button-hover-fill-color);\n",
              "  }\n",
              "\n",
              "  .colab-df-quickchart-complete:disabled,\n",
              "  .colab-df-quickchart-complete:disabled:hover {\n",
              "    background-color: var(--disabled-bg-color);\n",
              "    fill: var(--disabled-fill-color);\n",
              "    box-shadow: none;\n",
              "  }\n",
              "\n",
              "  .colab-df-spinner {\n",
              "    border: 2px solid var(--fill-color);\n",
              "    border-color: transparent;\n",
              "    border-bottom-color: var(--fill-color);\n",
              "    animation:\n",
              "      spin 1s steps(1) infinite;\n",
              "  }\n",
              "\n",
              "  @keyframes spin {\n",
              "    0% {\n",
              "      border-color: transparent;\n",
              "      border-bottom-color: var(--fill-color);\n",
              "      border-left-color: var(--fill-color);\n",
              "    }\n",
              "    20% {\n",
              "      border-color: transparent;\n",
              "      border-left-color: var(--fill-color);\n",
              "      border-top-color: var(--fill-color);\n",
              "    }\n",
              "    30% {\n",
              "      border-color: transparent;\n",
              "      border-left-color: var(--fill-color);\n",
              "      border-top-color: var(--fill-color);\n",
              "      border-right-color: var(--fill-color);\n",
              "    }\n",
              "    40% {\n",
              "      border-color: transparent;\n",
              "      border-right-color: var(--fill-color);\n",
              "      border-top-color: var(--fill-color);\n",
              "    }\n",
              "    60% {\n",
              "      border-color: transparent;\n",
              "      border-right-color: var(--fill-color);\n",
              "    }\n",
              "    80% {\n",
              "      border-color: transparent;\n",
              "      border-right-color: var(--fill-color);\n",
              "      border-bottom-color: var(--fill-color);\n",
              "    }\n",
              "    90% {\n",
              "      border-color: transparent;\n",
              "      border-bottom-color: var(--fill-color);\n",
              "    }\n",
              "  }\n",
              "</style>\n",
              "\n",
              "  <script>\n",
              "    async function quickchart(key) {\n",
              "      const quickchartButtonEl =\n",
              "        document.querySelector('#' + key + ' button');\n",
              "      quickchartButtonEl.disabled = true;  // To prevent multiple clicks.\n",
              "      quickchartButtonEl.classList.add('colab-df-spinner');\n",
              "      try {\n",
              "        const charts = await google.colab.kernel.invokeFunction(\n",
              "            'suggestCharts', [key], {});\n",
              "      } catch (error) {\n",
              "        console.error('Error during call to suggestCharts:', error);\n",
              "      }\n",
              "      quickchartButtonEl.classList.remove('colab-df-spinner');\n",
              "      quickchartButtonEl.classList.add('colab-df-quickchart-complete');\n",
              "    }\n",
              "    (() => {\n",
              "      let quickchartButtonEl =\n",
              "        document.querySelector('#df-a46206dd-a263-411b-b66a-c852a8e5b28e button');\n",
              "      quickchartButtonEl.style.display =\n",
              "        google.colab.kernel.accessAllowed ? 'block' : 'none';\n",
              "    })();\n",
              "  </script>\n",
              "</div>\n",
              "    </div>\n",
              "  </div>\n"
            ]
          },
          "metadata": {},
          "execution_count": 3
        }
      ]
    },
    {
      "cell_type": "code",
      "source": [
        "df.info()"
      ],
      "metadata": {
        "colab": {
          "base_uri": "https://localhost:8080/"
        },
        "id": "VtzLNQ-9sYmH",
        "outputId": "9203dbba-7c13-4a41-8503-456d6181d526"
      },
      "execution_count": 10,
      "outputs": [
        {
          "output_type": "stream",
          "name": "stdout",
          "text": [
            "<class 'pandas.core.frame.DataFrame'>\n",
            "RangeIndex: 3398 entries, 0 to 3397\n",
            "Data columns (total 30 columns):\n",
            " #   Column                          Non-Null Count  Dtype  \n",
            "---  ------                          --------------  -----  \n",
            " 0   MES_DE_LIQUIDACION              3398 non-null   int64  \n",
            " 1   DOCUMENTO                       3398 non-null   int64  \n",
            " 2   APELLIDO_Y_NOMBRE               3398 non-null   object \n",
            " 3   RAMA                            3398 non-null   object \n",
            " 4   CODIGO_CARGO                    3398 non-null   object \n",
            " 5   DEPENDENCIA_ESTA                3398 non-null   int64  \n",
            " 6   CARGA_HORARIA                   3398 non-null   int64  \n",
            " 7   TIPO_CARGO                      3398 non-null   object \n",
            " 8   REVISTA                         3398 non-null   int64  \n",
            " 9   SUBVENCION                      3398 non-null   int64  \n",
            " 10  DIAS_TRABAJADOS                 3398 non-null   int64  \n",
            " 11  CLAVE_IDENTIFICATORIA           3398 non-null   int64  \n",
            " 12  IDENTIFICACION_ESTABLECIMIENTO  3398 non-null   int64  \n",
            " 13  SUELDO_BRUTO                    3398 non-null   float64\n",
            " 14  ANTIGUEDAD                      3398 non-null   int64  \n",
            " 15  DESCUENTO_LEY                   3398 non-null   int64  \n",
            " 16  OBRA_SOCIAL                     3398 non-null   int64  \n",
            " 17  SEXO                            3398 non-null   object \n",
            " 18  CUIL                            3398 non-null   object \n",
            " 19  CUE                             3397 non-null   float64\n",
            " 20  NIVEL_ENSEÑANZA                 3398 non-null   object \n",
            " 21  ZONA                            3398 non-null   int64  \n",
            " 22  SUELDO_LIQUIDO                  3398 non-null   float64\n",
            " 23  PORCENTAJE_ANTIGUEDAD           3398 non-null   int64  \n",
            " 24  IMPORTE_EXT_HORARIA             3398 non-null   float64\n",
            " 25  HORA_JOR_EXTED                  3398 non-null   int64  \n",
            " 26  BASICO_101                      3398 non-null   float64\n",
            " 27  ANTIGUEDAD_103                  3205 non-null   float64\n",
            " 28  PRESENTISMO_112                 3023 non-null   float64\n",
            " 29  ZONA_116                        3397 non-null   float64\n",
            "dtypes: float64(8), int64(15), object(7)\n",
            "memory usage: 796.5+ KB\n"
          ]
        }
      ]
    },
    {
      "cell_type": "code",
      "source": [
        "df.columns"
      ],
      "metadata": {
        "colab": {
          "base_uri": "https://localhost:8080/"
        },
        "id": "d0XpKWJIsZEg",
        "outputId": "7de0b065-9f19-4deb-f0e7-710150f15616"
      },
      "execution_count": 5,
      "outputs": [
        {
          "output_type": "execute_result",
          "data": {
            "text/plain": [
              "Index(['MES_DE_LIQUIDACION', 'DOCUMENTO', 'APELLIDO_Y_NOMBRE', 'RAMA',\n",
              "       'CODIGO_CARGO', 'DEPENDENCIA_ESTA', 'CARGA_HORARIA', 'TIPO_CARGO',\n",
              "       'REVISTA', 'SUBVENCION', 'DIAS_TRABAJADOS', 'CLAVE_IDENTIFICATORIA',\n",
              "       'IDENTIFICACION_ESTABLECIMIENTO', 'SUELDO_BRUTO', 'ANTIGUEDAD',\n",
              "       'DESCUENTO_LEY', 'OBRA_SOCIAL', 'SEXO', 'CUIL', 'CUE',\n",
              "       'NIVEL_ENSEÑANZA', 'ZONA', 'SUELDO_LIQUIDO', 'PORCENTAJE_ANTIGUEDAD',\n",
              "       'IMPORTE_EXT_HORARIA', 'HORA_JOR_EXTED', 'BASICO_101', 'ANTIGUEDAD_103',\n",
              "       'PRESENTISMO_112', 'ZONA_116'],\n",
              "      dtype='object')"
            ]
          },
          "metadata": {},
          "execution_count": 5
        }
      ]
    },
    {
      "cell_type": "code",
      "source": [
        "df['SUELDO_LIQUIDO']"
      ],
      "metadata": {
        "colab": {
          "base_uri": "https://localhost:8080/"
        },
        "id": "MddW-XU-shoO",
        "outputId": "a8cd3ea7-8f46-4fed-8086-9b985754a78e"
      },
      "execution_count": 8,
      "outputs": [
        {
          "output_type": "execute_result",
          "data": {
            "text/plain": [
              "0       193846.31\n",
              "1       188298.28\n",
              "2       198371.27\n",
              "3       539400.30\n",
              "4       270866.26\n",
              "          ...    \n",
              "3393    432332.53\n",
              "3394     56522.70\n",
              "3395    228341.68\n",
              "3396    197741.68\n",
              "3397    195853.01\n",
              "Name: SUELDO_LIQUIDO, Length: 3398, dtype: float64"
            ]
          },
          "metadata": {},
          "execution_count": 8
        }
      ]
    },
    {
      "cell_type": "code",
      "source": [
        "df['CUE'] = df['CUE'] == 340034700\n",
        "#df['SUELDO_LIQUIDO'] = df['SUELDO_LIQUIDO']/100\n",
        "#df['IMPORTE_EXT_HORARIA'] = df['IMPORTE_EXT_HORARIA']/100"
      ],
      "metadata": {
        "id": "cjfpT2ZctkVs"
      },
      "execution_count": 15,
      "outputs": []
    },
    {
      "cell_type": "code",
      "source": [
        "df['ZONA_116'].fillna(0, inplace=True)\n"
      ],
      "metadata": {
        "id": "6a25kBRotHqf"
      },
      "execution_count": 13,
      "outputs": []
    },
    {
      "cell_type": "code",
      "source": [
        "df.info()"
      ],
      "metadata": {
        "colab": {
          "base_uri": "https://localhost:8080/"
        },
        "id": "uv9ZgTL0tHfR",
        "outputId": "b18e3e16-2def-42ba-9351-6f3c63ef4031"
      },
      "execution_count": 16,
      "outputs": [
        {
          "output_type": "stream",
          "name": "stdout",
          "text": [
            "<class 'pandas.core.frame.DataFrame'>\n",
            "RangeIndex: 3398 entries, 0 to 3397\n",
            "Data columns (total 30 columns):\n",
            " #   Column                          Non-Null Count  Dtype  \n",
            "---  ------                          --------------  -----  \n",
            " 0   MES_DE_LIQUIDACION              3398 non-null   int64  \n",
            " 1   DOCUMENTO                       3398 non-null   int64  \n",
            " 2   APELLIDO_Y_NOMBRE               3398 non-null   object \n",
            " 3   RAMA                            3398 non-null   object \n",
            " 4   CODIGO_CARGO                    3398 non-null   object \n",
            " 5   DEPENDENCIA_ESTA                3398 non-null   int64  \n",
            " 6   CARGA_HORARIA                   3398 non-null   int64  \n",
            " 7   TIPO_CARGO                      3398 non-null   object \n",
            " 8   REVISTA                         3398 non-null   int64  \n",
            " 9   SUBVENCION                      3398 non-null   int64  \n",
            " 10  DIAS_TRABAJADOS                 3398 non-null   int64  \n",
            " 11  CLAVE_IDENTIFICATORIA           3398 non-null   int64  \n",
            " 12  IDENTIFICACION_ESTABLECIMIENTO  3398 non-null   int64  \n",
            " 13  SUELDO_BRUTO                    3398 non-null   float64\n",
            " 14  ANTIGUEDAD                      3398 non-null   int64  \n",
            " 15  DESCUENTO_LEY                   3398 non-null   int64  \n",
            " 16  OBRA_SOCIAL                     3398 non-null   int64  \n",
            " 17  SEXO                            3398 non-null   object \n",
            " 18  CUIL                            3398 non-null   object \n",
            " 19  CUE                             3398 non-null   bool   \n",
            " 20  NIVEL_ENSEÑANZA                 3398 non-null   object \n",
            " 21  ZONA                            3398 non-null   int64  \n",
            " 22  SUELDO_LIQUIDO                  3398 non-null   float64\n",
            " 23  PORCENTAJE_ANTIGUEDAD           3398 non-null   int64  \n",
            " 24  IMPORTE_EXT_HORARIA             3398 non-null   float64\n",
            " 25  HORA_JOR_EXTED                  3398 non-null   int64  \n",
            " 26  BASICO_101                      3398 non-null   float64\n",
            " 27  ANTIGUEDAD_103                  3398 non-null   float64\n",
            " 28  PRESENTISMO_112                 3398 non-null   float64\n",
            " 29  ZONA_116                        3398 non-null   float64\n",
            "dtypes: bool(1), float64(7), int64(15), object(7)\n",
            "memory usage: 773.3+ KB\n"
          ]
        }
      ]
    },
    {
      "cell_type": "code",
      "source": [
        "df.CODIGO_CARGO"
      ],
      "metadata": {
        "id": "MTigVyA7tHTo"
      },
      "execution_count": null,
      "outputs": []
    },
    {
      "cell_type": "code",
      "source": [
        "df.IMPORTE_EXT_HORARIA"
      ],
      "metadata": {
        "colab": {
          "base_uri": "https://localhost:8080/"
        },
        "id": "sDhD9_HzTivg",
        "outputId": "443f1e1c-db26-4982-c4c8-b3974823595c"
      },
      "execution_count": 17,
      "outputs": [
        {
          "output_type": "execute_result",
          "data": {
            "text/plain": [
              "0       33839.08\n",
              "1       21247.85\n",
              "2       33839.08\n",
              "3       36986.89\n",
              "4       51938.98\n",
              "          ...   \n",
              "3393    48004.21\n",
              "3394    21247.71\n",
              "3395    33052.13\n",
              "3396    33052.13\n",
              "3397    30691.27\n",
              "Name: IMPORTE_EXT_HORARIA, Length: 3398, dtype: float64"
            ]
          },
          "metadata": {},
          "execution_count": 17
        }
      ]
    },
    {
      "cell_type": "code",
      "source": [
        "pip install openpyxl"
      ],
      "metadata": {
        "colab": {
          "base_uri": "https://localhost:8080/"
        },
        "id": "kwKSDvLovPbZ",
        "outputId": "88017307-9b89-4bc4-f253-7805bfe55888"
      },
      "execution_count": 18,
      "outputs": [
        {
          "output_type": "stream",
          "name": "stdout",
          "text": [
            "Requirement already satisfied: openpyxl in /usr/local/lib/python3.10/dist-packages (3.1.2)\n",
            "Requirement already satisfied: et-xmlfile in /usr/local/lib/python3.10/dist-packages (from openpyxl) (1.1.0)\n"
          ]
        }
      ]
    },
    {
      "cell_type": "code",
      "source": [
        "df.to_excel('/DATOS0923.xlsx', index=False, engine='openpyxl')"
      ],
      "metadata": {
        "id": "p-cpOZejwN9k"
      },
      "execution_count": 19,
      "outputs": []
    }
  ]
}